{
  "nbformat": 4,
  "nbformat_minor": 0,
  "metadata": {
    "colab": {
      "provenance": []
    },
    "kernelspec": {
      "name": "python3",
      "display_name": "Python 3"
    },
    "language_info": {
      "name": "python"
    }
  },
  "cells": [
    {
      "cell_type": "code",
      "execution_count": 1,
      "metadata": {
        "id": "JwIW8ePlRnbR"
      },
      "outputs": [],
      "source": [
        "#Librerias de Datos\n",
        "import pandas as pd\n",
        "import numpy as np\n",
        "import pickle as pc"
      ]
    },
    {
      "cell_type": "code",
      "source": [
        "#Librerias para entrenar el Modelo\n",
        "from sklearn.naive_bayes import GaussianNB"
      ],
      "metadata": {
        "id": "Go124daNR9u8"
      },
      "execution_count": 2,
      "outputs": []
    },
    {
      "cell_type": "markdown",
      "source": [
        "Ejecucion de nueva consulta:"
      ],
      "metadata": {
        "id": "KI_nN_DeTYh1"
      }
    },
    {
      "cell_type": "code",
      "source": [
        "new_query=[1,0,0,0,1,0,1,1,0,1,0,0,0,0,0,1,0,0,0]\n",
        "new_query= np.array(new_query)\n",
        "new_query=np.reshape(new_query,(1,19))\n",
        "new_query.shape\n",
        "new_query"
      ],
      "metadata": {
        "colab": {
          "base_uri": "https://localhost:8080/"
        },
        "id": "8nb8XzQcRsXr",
        "outputId": "12c356e8-a2b6-4c18-aeb0-8ceeb11d096a"
      },
      "execution_count": 4,
      "outputs": [
        {
          "output_type": "execute_result",
          "data": {
            "text/plain": [
              "array([[1, 0, 0, 0, 1, 0, 1, 1, 0, 1, 0, 0, 0, 0, 0, 1, 0, 0, 0]])"
            ]
          },
          "metadata": {},
          "execution_count": 4
        }
      ]
    },
    {
      "cell_type": "code",
      "source": [
        "modelo_riego=pc.load(open('/content/sample_data/ModeloComprobacionRiego.pkl','rb'))"
      ],
      "metadata": {
        "id": "Wi5pIXTQSS49"
      },
      "execution_count": 5,
      "outputs": []
    },
    {
      "cell_type": "code",
      "source": [
        "y_predict=modelo_riego.predict(new_query)\n",
        "y_predict"
      ],
      "metadata": {
        "colab": {
          "base_uri": "https://localhost:8080/"
        },
        "id": "KTmgLye4SpeS",
        "outputId": "ca1c1971-dcac-4956-8010-dcaede472825"
      },
      "execution_count": 9,
      "outputs": [
        {
          "output_type": "stream",
          "name": "stderr",
          "text": [
            "/usr/local/lib/python3.10/dist-packages/sklearn/base.py:439: UserWarning: X does not have valid feature names, but GaussianNB was fitted with feature names\n",
            "  warnings.warn(\n"
          ]
        },
        {
          "output_type": "execute_result",
          "data": {
            "text/plain": [
              "array([65])"
            ]
          },
          "metadata": {},
          "execution_count": 9
        }
      ]
    }
  ]
}